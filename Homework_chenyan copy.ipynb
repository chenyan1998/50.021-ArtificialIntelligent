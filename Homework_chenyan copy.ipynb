{
 "metadata": {
  "language_info": {
   "codemirror_mode": {
    "name": "ipython",
    "version": 3
   },
   "file_extension": ".py",
   "mimetype": "text/x-python",
   "name": "python",
   "nbconvert_exporter": "python",
   "pygments_lexer": "ipython3",
   "version": 3
  },
  "orig_nbformat": 2
 },
 "nbformat": 4,
 "nbformat_minor": 2,
 "cells": [
  {
   "cell_type": "code",
   "execution_count": null,
   "metadata": {},
   "outputs": [],
   "source": [
    "words = set(i.lower().strip() for i in open('words2.txt'))\n",
    "def is_valid_word(word):\n",
    "    return word in words\n",
    "\n",
    "#print(\"words: \", words)\n",
    "#print(\"is_valid_word(creak)\" , is_valid_word(\"creak\"))\n",
    "\n",
    "\"\"\"\n",
    "Note:\n",
    "\n",
    "Return 0 if there is no such transformation sequence.\n",
    "All words have the same length.\n",
    "All words contain only lowercase alphabetic characters.\n",
    "You may assume no duplicates in the word list.\n",
    "You may assume beginWord and endWord are non-empty and are not the same.\n",
    "\n",
    "\"\"\"\n",
    "from collections import deque\n",
    "queue = deque([\"Eric\", \"John\", \"Michael\"])\n",
    "queue.append(\"Terry\")           # Terry 入队\n",
    "queue.append(\"Graham\")          # Graham 入队\n",
    "queue.popleft()                 # 队首元素出队\n",
    "\n",
    "beginWord = \"hit\"\n",
    "endWord = \"cog\"\n",
    "wordList = [\"hot\",\"dot\",\"dog\",\"lot\",\"log\",\"cog\"]\n",
    "\n",
    "queue2 = deque([[beginWord, 1]])\n",
    "print(\"queue2: \" , queue2)\n",
    "\n",
    "word, length = queue2.popleft()\n",
    "print(\"word: \" , word , \"length : \", length)\n",
    "\n",
    "print(\"1: \", queue ) \n",
    "queue.pop()\n",
    "print(\"2: \", queue)   \n",
    "\n",
    "print(\"beginword[:1]: \", beginWord[:1])  \n",
    "print(\"beginword[2:]: \", beginWord[2:])                      # 队列中剩下的元素\n",
    "\n"
   ]
  }
 ]
}
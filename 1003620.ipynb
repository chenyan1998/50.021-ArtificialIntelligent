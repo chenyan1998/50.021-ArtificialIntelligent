{
 "metadata": {
  "language_info": {
   "codemirror_mode": {
    "name": "ipython",
    "version": 3
   },
   "file_extension": ".py",
   "mimetype": "text/x-python",
   "name": "python",
   "nbconvert_exporter": "python",
   "pygments_lexer": "ipython3",
   "version": "3.8.2"
  },
  "orig_nbformat": 2,
  "kernelspec": {
   "name": "python382jvsc74a57bd031f2aee4e71d21fbe5cf8b01ff0e069b9275f58929596ceb00d14d90e3e16cd6",
   "display_name": "Python 3.8.2 64-bit"
  },
  "metadata": {
   "interpreter": {
    "hash": "31f2aee4e71d21fbe5cf8b01ff0e069b9275f58929596ceb00d14d90e3e16cd6"
   }
  }
 },
 "nbformat": 4,
 "nbformat_minor": 2,
 "cells": [
  {
   "cell_type": "code",
   "execution_count": 8,
   "metadata": {
    "tags": []
   },
   "outputs": [
    {
     "output_type": "execute_result",
     "data": {
      "text/plain": [
       "'\\nNote:\\n\\nReturn 0 if there is no such transformation sequence.\\nAll words have the same length.\\nAll words contain only lowercase alphabetic characters.\\nYou may assume no duplicates in the word list.\\nYou may assume beginWord and endWord are non-empty and are not the same.\\n\\n'"
      ]
     },
     "metadata": {},
     "execution_count": 8
    }
   ],
   "source": [
    "words = set(i.lower().strip() for i in open('words2.txt'))\n",
    "def is_valid_word(word):\n",
    "    return word in words\n",
    "\n",
    "#print(\"words: \", words)\n",
    "#print(\"is_valid_word(creak)\" , is_valid_word(\"creak\"))\n",
    "\n",
    "\"\"\"\n",
    "Note:\n",
    "\n",
    "Return 0 if there is no such transformation sequence.\n",
    "All words have the same length.\n",
    "All words contain only lowercase alphabetic characters.\n",
    "You may assume no duplicates in the word list.\n",
    "You may assume beginWord and endWord are non-empty and are not the same.\n",
    "\n",
    "\"\"\""
   ]
  },
  {
   "cell_type": "code",
   "execution_count": 16,
   "metadata": {},
   "outputs": [
    {
     "output_type": "stream",
     "name": "stdout",
     "text": [
      "queue2:  deque([['hit', 1]])\nword:  hit length :  1\n1:  deque(['John', 'Michael', 'Terry', 'Graham'])\n2:  deque(['John', 'Michael', 'Terry'])\nbeginword[:1]:  h\nbeginword[2:]:  t\n"
     ]
    }
   ],
   "source": [
    "from collections import deque\n",
    "queue = deque([\"Eric\", \"John\", \"Michael\"])\n",
    "queue.append(\"Terry\")           # Terry 入队\n",
    "queue.append(\"Graham\")          # Graham 入队\n",
    "queue.popleft()                 # 队首元素出队\n",
    "\n",
    "beginWord = \"hit\"\n",
    "endWord = \"cog\"\n",
    "wordList = [\"hot\",\"dot\",\"dog\",\"lot\",\"log\",\"cog\"]\n",
    "\n",
    "queue2 = deque([[beginWord, 1]])\n",
    "print(\"queue2: \" , queue2)\n",
    "\n",
    "word, length = queue2.popleft()\n",
    "print(\"word: \" , word , \"length : \", length)\n",
    "\n",
    "print(\"1: \", queue ) \n",
    "queue.pop()\n",
    "print(\"2: \", queue)   \n",
    "\n",
    "print(\"beginword[:1]: \", beginWord[:1])  \n",
    "print(\"beginword[2:]: \", beginWord[2:])                      # 队列中剩下的元素\n"
   ]
  },
  {
   "source": [
    "# Problem2 Coding: Flight Itinerary\n"
   ],
   "cell_type": "markdown",
   "metadata": {}
  },
  {
   "source": [
    "## Part 1: \n",
    "State What is a good choice of state in this problem?\n",
    "\n",
    "ANS : Current city and current time"
   ],
   "cell_type": "markdown",
   "metadata": {}
  },
  {
   "source": [
    "## Part 2: \n",
    "\n",
    "Matches Write  a  method  matches  contained  within  the  Flight  class,  that  takes  a  pair(city,time) as an argument and returns a boolean based on whether or not the city and time specified ”match” those of the flight, in the sense that the flight leaves from the same city, at a time later than time."
   ],
   "cell_type": "markdown",
   "metadata": {}
  },
  {
   "cell_type": "code",
   "execution_count": 12,
   "metadata": {},
   "outputs": [],
   "source": [
    "# Flight Class\n",
    "class Flight:\n",
    "    def __init__(self, start_city, start_time, end_city, end_time):\n",
    "        self.start_city = start_city\n",
    "        self.start_time = start_time\n",
    "        self.end_city = end_city\n",
    "        self.end_time = end_time\n",
    "    \n",
    "    def __str__(self):\n",
    "        return str((self.start_city, self.start_time)) + ' -> ' + str((self.end_city, self.end_time))\n",
    "    __repr__ = __str__\n",
    "\n",
    "    #a method matches contained within the Flight class\n",
    "    def match_flight(self, input_pair):\n",
    "        city, time = input_pair\n",
    "        result = False\n",
    "        if city == self.start_city and time <= self.start_time:\n",
    "            result = True\n",
    "        return result\n",
    "\n",
    "# The database of fights:\n",
    "flightDB = [\n",
    "    Flight('Rome', 1, 'Paris', 4),\n",
    "    Flight('Rome', 3, 'Madrid', 5),\n",
    "    Flight('Rome', 5, 'Istanbul', 10),\n",
    "    Flight('Paris', 2, 'London', 4),\n",
    "    Flight('Paris', 5, 'Oslo', 7),\n",
    "    Flight('Paris', 5, 'Istanbul', 9),\n",
    "    Flight('Madrid', 7, 'Rabat', 10),\n",
    "    Flight('Madrid', 8, 'London', 10),\n",
    "    Flight('Istanbul', 10, 'Constantinople', 10)]\n",
    "\n",
    "# Explore the database of fights:\n",
    "# print(\"flightDB len: \", len(flightDB))\n",
    "# print(\"flightDB element: \", flightDB[0])"
   ]
  },
  {
   "source": [
    "## Part 3: \n",
    "Flight Itinerary Define a procedure find it inerary that returns a plan,  in the form of a se-quence of (city, time) pairs, that represents a legal sequence of flights (found inFlightDB) from start city to end city before a specified deadline.\n",
    "\n",
    "def find_itinerary(start_city, start_time, end_city, deadline):pass"
   ],
   "cell_type": "markdown",
   "metadata": {}
  },
  {
   "cell_type": "code",
   "execution_count": 16,
   "metadata": {},
   "outputs": [
    {
     "output_type": "error",
     "ename": "AttributeError",
     "evalue": "'Flight_Itinerary' object has no attribute 'goal_state'",
     "traceback": [
      "\u001b[0;31m---------------------------------------------------------------------------\u001b[0m",
      "\u001b[0;31mAttributeError\u001b[0m                            Traceback (most recent call last)",
      "\u001b[0;32m<ipython-input-16-41ded81739a6>\u001b[0m in \u001b[0;36m<module>\u001b[0;34m\u001b[0m\n\u001b[1;32m     54\u001b[0m \u001b[0;34m\u001b[0m\u001b[0m\n\u001b[1;32m     55\u001b[0m \u001b[0;31m#Test\u001b[0m\u001b[0;34m\u001b[0m\u001b[0;34m\u001b[0m\u001b[0;34m\u001b[0m\u001b[0m\n\u001b[0;32m---> 56\u001b[0;31m \u001b[0mfind_itinerary\u001b[0m\u001b[0;34m(\u001b[0m\u001b[0;34m'Rome'\u001b[0m\u001b[0;34m,\u001b[0m \u001b[0;36m0\u001b[0m\u001b[0;34m,\u001b[0m \u001b[0;34m'Constantinople'\u001b[0m\u001b[0;34m,\u001b[0m \u001b[0;36m10\u001b[0m\u001b[0;34m)\u001b[0m\u001b[0;34m\u001b[0m\u001b[0;34m\u001b[0m\u001b[0m\n\u001b[0m",
      "\u001b[0;32m<ipython-input-16-41ded81739a6>\u001b[0m in \u001b[0;36mfind_itinerary\u001b[0;34m(start_city, start_time, end_city, deadline)\u001b[0m\n\u001b[1;32m     48\u001b[0m     \u001b[0mflight\u001b[0m \u001b[0;34m=\u001b[0m \u001b[0mFlight_Itinerary\u001b[0m\u001b[0;34m(\u001b[0m\u001b[0mstart\u001b[0m\u001b[0;34m,\u001b[0m\u001b[0mend\u001b[0m\u001b[0;34m)\u001b[0m\u001b[0;34m\u001b[0m\u001b[0;34m\u001b[0m\u001b[0m\n\u001b[1;32m     49\u001b[0m     \u001b[0;31m#BFS to search the shortest path\u001b[0m\u001b[0;34m\u001b[0m\u001b[0;34m\u001b[0m\u001b[0;34m\u001b[0m\u001b[0m\n\u001b[0;32m---> 50\u001b[0;31m     \u001b[0mnode_bfs\u001b[0m \u001b[0;34m=\u001b[0m \u001b[0mbreadth_first_search\u001b[0m\u001b[0;34m(\u001b[0m\u001b[0mflight\u001b[0m\u001b[0;34m)\u001b[0m\u001b[0;34m\u001b[0m\u001b[0;34m\u001b[0m\u001b[0m\n\u001b[0m\u001b[1;32m     51\u001b[0m     \u001b[0;32mif\u001b[0m \u001b[0;32mnot\u001b[0m \u001b[0mnode_bfs\u001b[0m\u001b[0;34m:\u001b[0m \u001b[0;32mreturn\u001b[0m \u001b[0;32mNone\u001b[0m\u001b[0;34m\u001b[0m\u001b[0;34m\u001b[0m\u001b[0m\n\u001b[1;32m     52\u001b[0m     \u001b[0mflight_plan\u001b[0m \u001b[0;34m=\u001b[0m \u001b[0mnode_bfs\u001b[0m\u001b[0;34m.\u001b[0m\u001b[0msolution\u001b[0m\u001b[0;34m(\u001b[0m\u001b[0;34m)\u001b[0m\u001b[0;34m\u001b[0m\u001b[0;34m\u001b[0m\u001b[0m\n",
      "\u001b[0;32m~/Documents/GitHub/50.021-ArtificialIntelligent/search.py\u001b[0m in \u001b[0;36mbreadth_first_search\u001b[0;34m(problem)\u001b[0m\n\u001b[1;32m    185\u001b[0m     \u001b[0;34m\"[Fig. 3.11]\"\u001b[0m\u001b[0;34m\u001b[0m\u001b[0;34m\u001b[0m\u001b[0m\n\u001b[1;32m    186\u001b[0m     \u001b[0mnode\u001b[0m \u001b[0;34m=\u001b[0m \u001b[0mNode\u001b[0m\u001b[0;34m(\u001b[0m\u001b[0mproblem\u001b[0m\u001b[0;34m.\u001b[0m\u001b[0minitial\u001b[0m\u001b[0;34m)\u001b[0m\u001b[0;34m\u001b[0m\u001b[0;34m\u001b[0m\u001b[0m\n\u001b[0;32m--> 187\u001b[0;31m     \u001b[0;32mif\u001b[0m \u001b[0mproblem\u001b[0m\u001b[0;34m.\u001b[0m\u001b[0mgoal_test\u001b[0m\u001b[0;34m(\u001b[0m\u001b[0mnode\u001b[0m\u001b[0;34m.\u001b[0m\u001b[0mstate\u001b[0m\u001b[0;34m)\u001b[0m\u001b[0;34m:\u001b[0m\u001b[0;34m\u001b[0m\u001b[0;34m\u001b[0m\u001b[0m\n\u001b[0m\u001b[1;32m    188\u001b[0m         \u001b[0;32mreturn\u001b[0m \u001b[0mnode\u001b[0m\u001b[0;34m\u001b[0m\u001b[0;34m\u001b[0m\u001b[0m\n\u001b[1;32m    189\u001b[0m     \u001b[0mfrontier\u001b[0m \u001b[0;34m=\u001b[0m \u001b[0mFIFOQueue\u001b[0m\u001b[0;34m(\u001b[0m\u001b[0;34m)\u001b[0m\u001b[0;34m\u001b[0m\u001b[0;34m\u001b[0m\u001b[0m\n",
      "\u001b[0;32m<ipython-input-16-41ded81739a6>\u001b[0m in \u001b[0;36mgoal_test\u001b[0;34m(self, flight_state)\u001b[0m\n\u001b[1;32m     30\u001b[0m         \u001b[0;34m\"\"\"Return True if the state is a goal.\"\"\"\u001b[0m\u001b[0;34m\u001b[0m\u001b[0;34m\u001b[0m\u001b[0m\n\u001b[1;32m     31\u001b[0m         \u001b[0mcurrent_city\u001b[0m\u001b[0;34m,\u001b[0m \u001b[0mcurrent_time\u001b[0m \u001b[0;34m=\u001b[0m \u001b[0mflight_state\u001b[0m\u001b[0;34m\u001b[0m\u001b[0;34m\u001b[0m\u001b[0m\n\u001b[0;32m---> 32\u001b[0;31m         \u001b[0mgoal_city\u001b[0m\u001b[0;34m,\u001b[0m\u001b[0mgoal_state\u001b[0m \u001b[0;34m=\u001b[0m \u001b[0mself\u001b[0m\u001b[0;34m.\u001b[0m\u001b[0mgoal_state\u001b[0m\u001b[0;34m\u001b[0m\u001b[0;34m\u001b[0m\u001b[0m\n\u001b[0m\u001b[1;32m     33\u001b[0m         \u001b[0;32mif\u001b[0m \u001b[0mcurrent_city\u001b[0m \u001b[0;34m==\u001b[0m \u001b[0mgoal_city\u001b[0m \u001b[0;32mand\u001b[0m \u001b[0mcurrent_time\u001b[0m \u001b[0;34m<=\u001b[0m \u001b[0mgoal_time\u001b[0m\u001b[0;34m:\u001b[0m\u001b[0;34m\u001b[0m\u001b[0;34m\u001b[0m\u001b[0m\n\u001b[1;32m     34\u001b[0m             \u001b[0;32mreturn\u001b[0m \u001b[0;32mTrue\u001b[0m\u001b[0;34m\u001b[0m\u001b[0;34m\u001b[0m\u001b[0m\n",
      "\u001b[0;31mAttributeError\u001b[0m: 'Flight_Itinerary' object has no attribute 'goal_state'"
     ]
    }
   ],
   "source": [
    "#Import Libraries\n",
    "from search import *\n",
    "from functools import partial\n",
    "\n",
    "#Write a class to inherit subclass:Problem in search.py\n",
    "class Flight_Itinerary(Problem):\n",
    "\n",
    "    def __init__(self, initial_state, goal):\n",
    "        \"\"\"The constructor specifies the initial state, and possibly a goal state \"\"\"\n",
    "        super().__init__(initial_state,goal_state)\n",
    "\n",
    "    def actions(self, flight_state):\n",
    "        \"\"\"Return the actions that can be executed in the given\n",
    "        state.\"\"\"\n",
    "        flight_actions_list = []\n",
    "        for flight in flightDB:\n",
    "            if flight.match_flight(flight_state) == True:\n",
    "                flight_actions_list.append(flight)\n",
    "        return flight_actions_list\n",
    "\n",
    "\n",
    "    def result(self, flight_state, flight_action):\n",
    "        \"\"\"Return the state that results from executing the given\n",
    "        action in the given state.\"\"\"\n",
    "        flight_action_end_city = flight_action.end_city\n",
    "        flight_action_end_time = flight_action.end_time\n",
    "        return (flight_action_end_city,flight_action_end_time)\n",
    "\n",
    "    def goal_test(self, flight_state):\n",
    "        \"\"\"Return True if the state is a goal.\"\"\"\n",
    "        current_city, current_time = flight_state\n",
    "        goal_city,goal_state = self.goal\n",
    "        if current_city == goal_city and current_time <= goal_time:\n",
    "            return True\n",
    "\n",
    "    def path_cost(self, c, state1, action, state2):\n",
    "        \"\"\"Return the cost of a solution path that arrives at state2 from state1 via action, assuming cost c to get up to state1.\"\"\"\n",
    "        return c + 1\n",
    "\n",
    "    def value(self, state):\n",
    "        \"\"\"For optimization problems, each state has a value.  Hill-climbing and related algorithms try to maximize this value.\"\"\"\n",
    "        abstract\n",
    "\n",
    "#Define a method to find a flight plan\n",
    "def find_itinerary(start_city, start_time, end_city, deadline):\n",
    "    start = (start_city,start_time)\n",
    "    end   = (end_city, deadline)\n",
    "    flight = Flight_Itinerary(start,end)\n",
    "    #BFS to search the shortest path \n",
    "    node_bfs = breadth_first_search(flight)\n",
    "    if not node_bfs: return None\n",
    "    flight_plan = node_bfs.solution()\n",
    "    return flight_plan\n",
    "\n",
    "#Test \n",
    "find_itinerary('Rome', 0, 'Constantinople', 10)"
   ]
  },
  {
   "source": [
    "### Part 4: \n",
    "Going FurtherBen Bitdiddle wants to find a way to get from Rome at time 1 to Istanbul atthe earliest time possible.  He proposes to start with a deadline argument (tofinditineraryof 1, and then increase it, one-by-one, callingfinditineraryeach time, until it successfully finds a path.\n",
    "\n",
    "Question1: Will this strategy find the path that arrives soonest, given that we start at time1?\n",
    "\n",
    "Imagine  that  if  we  use  this  strategy  to  solve  a  problem  whose  shortest  path(shortest  time)  is  length  100,  it  takes  an  amountxof  calls  on  finditineraryto  solve.   \n",
    "\n",
    "Question2: Roughly  how  many  calls  tofinditinerarywill  it  take  to  solve  aproblem whose shortest path is length 200? Write a procedure find shortest it inerary that implements this strategy.\n",
    "\n",
    "Your procedure should take two strings, representing a starting location and anending location, and should return a list of (location,time) tuples representingthe shortest path between the two locations.  You may assume that there is atleast one path connecting the two locations.As an additional challenge, try to minimize the number of times your procedurecallsfinditinerary!4"
   ],
   "cell_type": "markdown",
   "metadata": {}
  },
  {
   "cell_type": "code",
   "execution_count": null,
   "metadata": {},
   "outputs": [],
   "source": []
  }
 ]
}
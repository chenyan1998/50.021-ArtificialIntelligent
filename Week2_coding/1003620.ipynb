{
 "metadata": {
  "language_info": {
   "codemirror_mode": {
    "name": "ipython",
    "version": 3
   },
   "file_extension": ".py",
   "mimetype": "text/x-python",
   "name": "python",
   "nbconvert_exporter": "python",
   "pygments_lexer": "ipython3",
   "version": "3.8.2"
  },
  "orig_nbformat": 2,
  "kernelspec": {
   "name": "python382jvsc74a57bd031f2aee4e71d21fbe5cf8b01ff0e069b9275f58929596ceb00d14d90e3e16cd6",
   "display_name": "Python 3.8.2 64-bit"
  },
  "metadata": {
   "interpreter": {
    "hash": "31f2aee4e71d21fbe5cf8b01ff0e069b9275f58929596ceb00d14d90e3e16cd6"
   }
  }
 },
 "nbformat": 4,
 "nbformat_minor": 2,
 "cells": [
  {
   "source": [
    "\n",
    "# Chen Yan AI-Homework-W2\n",
    "# Problem1 Coding: Word Ladders"
   ],
   "cell_type": "markdown",
   "metadata": {
    "tags": []
   }
  },
  {
   "cell_type": "code",
   "execution_count": 5,
   "metadata": {},
   "outputs": [],
   "source": [
    "words = set(i.lower().strip() for i in open('words2.txt'))\n",
    "def is_valid_word(word):\n",
    "    return word in words\n",
    "\n",
    "# print(\"words: \", words)\n",
    "# print(\"is_valid_word(creak)\" , is_valid_word(\"creak\"))"
   ]
  },
  {
   "cell_type": "code",
   "execution_count": 38,
   "metadata": {
    "tags": []
   },
   "outputs": [
    {
     "output_type": "stream",
     "name": "stdout",
     "text": [
      "\n Test1:  Success! Word need transfer 5  times. \n Transfer path :  ['Change word from cold to cord', 'Change word from cord to word', 'Change word from word to ward', 'Change word from ward to warm']\n\n Test2:  Success! Word need transfer 2  times. \n Transfer path :  ['Change word from cars to cats']\n\n Test3:  Success! Word need transfer 5  times. \n Transfer path :  ['Change word from best to bast', 'Change word from bast to mast', 'Change word from mast to mash', 'Change word from mash to math']\n"
     ]
    }
   ],
   "source": [
    "#Import Libraries\n",
    "from search import *\n",
    "from functools import partial\n",
    "from collections import deque\n",
    "\n",
    "# Calculate the thransfer length \n",
    "def ladderLength(startWord, endWord, wordList):\n",
    "    queue = [(startWord, 1)]\n",
    "    nodes = set()\n",
    "    \n",
    "    res2 = \"Failure! \"\n",
    "\n",
    "\n",
    "    while queue:\n",
    "        word, num = queue.pop(0)\n",
    "        word_length = len(word)\n",
    "        if word == endWord:\n",
    "            res1 = \"Success! Word need transfer \" + str(num) + \"  times.\"\n",
    "            return res1\n",
    "        for i in range(word_length):\n",
    "            for j in 'qwertyuiopasdfghjklzxcvbnm':\n",
    "                tmp = word[:i] + j + word[i+1:]\n",
    "                if tmp not in nodes and tmp in wordList:\n",
    "                    queue.append((tmp, num+1))\n",
    "                    nodes.add(tmp)\n",
    "    \n",
    "    return res2\n",
    "\n",
    "# reformat it \n",
    "class ladder(Problem):\n",
    "    def __init__(self, beginword,endword):\n",
    "        super().__init__(beginword,endword)\n",
    "    def actions(self,states):\n",
    "        wordstate_list = []\n",
    "        states_len = len(states)\n",
    "        for i in range(states_len):\n",
    "            for j in 'qwertyuiopasdfghjklzxcvbnm':\n",
    "                tmp = states[:i] + j + states[i+1:]\n",
    "                if is_valid_word(tmp):\n",
    "                    wordstate_list.append(f\"Change word from {states} to {tmp}\")\n",
    "        return wordstate_list\n",
    "\n",
    "    def result(self,states,actions):\n",
    "        return actions.split()[-1]\n",
    "\n",
    "#Test1\n",
    "beginWord1 = \"cold\"\n",
    "endWord1 = \"warm\"\n",
    "wordList1 = words\n",
    "word_path1 = breadth_first_search(ladder(\"cold\", \"warm\"))\n",
    "\n",
    "#Test2\n",
    "beginWord2 = \"cars\"\n",
    "endWord2 = \"cats\"\n",
    "wordList2 = words\n",
    "word_path2 = breadth_first_search(ladder(\"cars\", \"cats\"))\n",
    "#Test3\n",
    "beginWord3 = \"best\"\n",
    "endWord3 = \"math\"\n",
    "wordList3 = words\n",
    "word_path3 = breadth_first_search(ladder(\"best\", \"math\"))\n",
    "\n",
    "\n",
    "print(\"\\n Test1: \", ladderLength(beginWord1, endWord1, wordList1), \"\\n Transfer path : \", word_path1.solution())\n",
    "print(\"\\n Test2: \", ladderLength(beginWord2, endWord2, wordList2),\"\\n Transfer path : \", word_path2.solution())\n",
    "print(\"\\n Test3: \", ladderLength(beginWord3, endWord3, wordList3),\"\\n Transfer path : \", word_path3.solution())"
   ]
  },
  {
   "source": [
    "# Problem2 Coding: Flight Itinerary\n"
   ],
   "cell_type": "markdown",
   "metadata": {}
  },
  {
   "source": [
    "## Part 1: \n",
    "State What is a good choice of state in this problem?\n",
    "\n",
    "ANS : Current city and current time"
   ],
   "cell_type": "markdown",
   "metadata": {}
  },
  {
   "source": [
    "## Part 2: \n",
    "\n",
    "Matches Write  a  method  matches  contained  within  the  Flight  class,  that  takes  a  pair(city,time) as an argument and returns a boolean based on whether or not the city and time specified ”match” those of the flight, in the sense that the flight leaves from the same city, at a time later than time."
   ],
   "cell_type": "markdown",
   "metadata": {}
  },
  {
   "cell_type": "code",
   "execution_count": 12,
   "metadata": {},
   "outputs": [],
   "source": [
    "# Flight Class\n",
    "class Flight:\n",
    "    def __init__(self, start_city, start_time, end_city, end_time):\n",
    "        self.start_city = start_city\n",
    "        self.start_time = start_time\n",
    "        self.end_city = end_city\n",
    "        self.end_time = end_time\n",
    "    \n",
    "    def __str__(self):\n",
    "        return str((self.start_city, self.start_time)) + ' -> ' + str((self.end_city, self.end_time))\n",
    "    __repr__ = __str__\n",
    "\n",
    "    #a method matches contained within the Flight class\n",
    "    def match_flight(self, input_pair):\n",
    "        city, time = input_pair\n",
    "        result = False\n",
    "        if city == self.start_city and time <= self.start_time:\n",
    "            result = True\n",
    "        return result\n",
    "\n",
    "# The database of fights:\n",
    "flightDB = [\n",
    "    Flight('Rome', 1, 'Paris', 4),\n",
    "    Flight('Rome', 3, 'Madrid', 5),\n",
    "    Flight('Rome', 5, 'Istanbul', 10),\n",
    "    Flight('Paris', 2, 'London', 4),\n",
    "    Flight('Paris', 5, 'Oslo', 7),\n",
    "    Flight('Paris', 5, 'Istanbul', 9),\n",
    "    Flight('Madrid', 7, 'Rabat', 10),\n",
    "    Flight('Madrid', 8, 'London', 10),\n",
    "    Flight('Istanbul', 10, 'Constantinople', 10)]\n",
    "\n",
    "# Explore the database of fights:\n",
    "# print(\"flightDB len: \", len(flightDB))\n",
    "# print(\"flightDB element: \", flightDB[0])"
   ]
  },
  {
   "source": [
    "## Part 3: \n",
    "Flight Itinerary Define a procedure find it inerary that returns a plan,  in the form of a se-quence of (city, time) pairs, that represents a legal sequence of flights (found inFlightDB) from start city to end city before a specified deadline.\n",
    "\n",
    "def find_itinerary(start_city, start_time, end_city, deadline):pass"
   ],
   "cell_type": "markdown",
   "metadata": {}
  },
  {
   "cell_type": "code",
   "execution_count": 32,
   "metadata": {},
   "outputs": [
    {
     "output_type": "stream",
     "name": "stdout",
     "text": [
      "\n ----------------breadth_first_search---------------------\nPlan Rome --> Constantinople : \n [('Rome', 5) -> ('Istanbul', 10), ('Istanbul', 10) -> ('Constantinople', 10)]\nPlan Rome --> Istanbul : \n [('Rome', 5) -> ('Istanbul', 10)]\nPlan Paris --> Constantinople : \n [('Paris', 5) -> ('Istanbul', 9), ('Istanbul', 10) -> ('Constantinople', 10)]\nPlan Rome --> London : \n [('Rome', 3) -> ('Madrid', 5), ('Madrid', 8) -> ('London', 10)]\n\n ----------------breadth_first_tree_search---------------------\nPlan Rome --> London : \n [('Rome', 3) -> ('Madrid', 5), ('Madrid', 8) -> ('London', 10)]\n\n ----------------depth_first_graph_search---------------------\nPlan Rome --> London : \n [('Rome', 3) -> ('Madrid', 5), ('Madrid', 8) -> ('London', 10)]\n\n ------------------depth_first_tree_search---------------------\nPlan Rome --> London : \n [('Rome', 3) -> ('Madrid', 5), ('Madrid', 8) -> ('London', 10)]\n"
     ]
    }
   ],
   "source": [
    "#Import Libraries\n",
    "from search import *\n",
    "from functools import partial\n",
    "\n",
    "#Write a class to inherit subclass:Problem in search.py\n",
    "class Flight_Itinerary(Problem):\n",
    "\n",
    "    def __init__(self, initial_state, goal_state):\n",
    "        \"\"\"The constructor specifies the initial state, and possibly a goal state \"\"\"\n",
    "        super().__init__(initial_state,goal_state)\n",
    "\n",
    "    def actions(self, flight_state):\n",
    "        \"\"\"Return the actions that can be executed in the given\n",
    "        state.\"\"\"\n",
    "        flight_actions_list = []\n",
    "        for flight in flightDB:\n",
    "            if flight.match_flight(flight_state) == True:\n",
    "                flight_actions_list.append(flight)\n",
    "        return flight_actions_list\n",
    "\n",
    "\n",
    "    def result(self, flight_state, flight_action):\n",
    "        \"\"\"Return the state that results from executing the given\n",
    "        action in the given state.\"\"\"\n",
    "        flight_action_end_city = flight_action.end_city\n",
    "        flight_action_end_time = flight_action.end_time\n",
    "        return (flight_action_end_city,flight_action_end_time)\n",
    "\n",
    "    def goal_test(self, flight_state):\n",
    "        \"\"\"Return True if the state is a goal.\"\"\"\n",
    "        current_city, current_time = flight_state\n",
    "        goal_city,goal_time = self.goal\n",
    "        if current_city == goal_city and current_time <= goal_time:\n",
    "            return True\n",
    "\n",
    "    def path_cost(self, c, state1, action, state2):\n",
    "        \"\"\"Return the cost of a solution path that arrives at state2 from state1 via action, assuming cost c to get up to state1.\"\"\"\n",
    "        return c + 1\n",
    "\n",
    "    def value(self, state):\n",
    "        \"\"\"For optimization problems, each state has a value.  Hill-climbing and related algorithms try to maximize this value.\"\"\"\n",
    "        abstract\n",
    "\n",
    "#Method1:BFS  to find a flight plan\n",
    "def find_itinerary(start_city, start_time, end_city, deadline):\n",
    "    start = (start_city,start_time)\n",
    "    end   = (end_city, deadline)\n",
    "    flight = Flight_Itinerary(start,end)\n",
    "    #BFS to search the shortest path \n",
    "    node_bfs = breadth_first_search(flight)\n",
    "    if not node_bfs: return None\n",
    "    flight_plan = node_bfs.solution()\n",
    "    return flight_plan\n",
    "\n",
    "#Method2:BFGS  to find a flight plan\n",
    "def find_itinerary_bfts(start_city, start_time, end_city, deadline):\n",
    "    start = (start_city,start_time)\n",
    "    end   = (end_city, deadline)\n",
    "    flight = Flight_Itinerary(start,end)\n",
    "    #BFTS to search the shortest path \n",
    "    node_bfts = breadth_first_tree_search(flight)\n",
    "    if not node_bfts: return None\n",
    "    flight_plan = node_bfts.solution()\n",
    "    return flight_plan\n",
    "\n",
    "    \n",
    "#Method3:DFGS  to find a flight plan\n",
    "def find_itinerary_dfgs(start_city, start_time, end_city, deadline):\n",
    "    start = (start_city,start_time)\n",
    "    end   = (end_city, deadline)\n",
    "    flight = Flight_Itinerary(start,end)\n",
    "    #DFGS to search the shortest path \n",
    "    node_dfgs = depth_first_graph_search(flight)\n",
    "    if not node_dfgs: return None\n",
    "    flight_plan = node_dfgs.solution()\n",
    "    return flight_plan\n",
    "\n",
    "\n",
    "#Method4: DFTS to find a flight plan\n",
    "def find_itinerary_dfts(start_city, start_time, end_city, deadline):\n",
    "    start = (start_city,start_time)\n",
    "    end   = (end_city, deadline)\n",
    "    flight = Flight_Itinerary(start,end)\n",
    "    #DFTS to search the shortest path \n",
    "    node_dfts = depth_first_tree_search(flight)\n",
    "    if not node_dfts: return None\n",
    "    flight_plan = node_dfts.solution()\n",
    "    return flight_plan\n",
    "\n",
    "#Test \n",
    "print(\"\\n -------------------breadth_first_search----------------------\")\n",
    "print(\"Plan Rome --> Constantinople : \\n\",find_itinerary('Rome', 0, 'Constantinople', 10))\n",
    "print(\"Plan Rome --> Istanbul : \\n\",find_itinerary('Rome', 0, 'Istanbul', 10))\n",
    "print(\"Plan Paris --> Constantinople : \\n\",find_itinerary('Paris', 0, 'Constantinople', 10))\n",
    "print(\"Plan Rome --> London : \\n\",find_itinerary('Rome', 0, 'London', 10))\n",
    "print(\"\\n ----------------breadth_first_tree_search---------------------\")\n",
    "print(\"Plan Rome --> London : \\n\",find_itinerary_bfts('Rome', 0, 'London', 10))\n",
    "print(\"\\n ----------------depth_first_graph_search---------------------\")\n",
    "print(\"Plan Rome --> London : \\n\",find_itinerary_dfgs('Rome', 0, 'London', 10))\n",
    "print(\"\\n ------------------depth_first_tree_search---------------------\")\n",
    "print(\"Plan Rome --> London : \\n\",find_itinerary_dfts('Rome', 0, 'London', 10))"
   ]
  },
  {
   "source": [
    "### Part 4: \n",
    "Going FurtherBen Bitdiddle wants to find a way to get from Rome at time 1 to Istanbul atthe earliest time possible.  He proposes to start with a deadline argument (to findit inerary of 1, and then increase it, one-by-one, calling findit ineraryeach time, until it successfully finds a path.\n",
    "\n",
    "Question1: Will this strategy find the path that arrives soonest, given that we start at time1?\n",
    "\n",
    "Imagine  that  if  we  use  this  strategy  to  solve  a  problem  whose  shortest  path(shortest  time)  is  length  100,  it  takes  an  amountxof  calls  on  finditineraryto  solve.   \n",
    "\n",
    "Question2: Roughly  how  many  calls  tofinditinerarywill  it  take  to  solve  aproblem whose shortest path is length 200? Write a procedure find shortest it inerary that implements this strategy.\n",
    "\n",
    "Your procedure should take two strings, representing a starting location and anending location, and should return a list of (location,time) tuples representingthe shortest path between the two locations.  You may assume that there is atleast one path connecting the two locations.As an additional challenge, try to minimize the number of times your procedurecallsfinditinerary!4"
   ],
   "cell_type": "markdown",
   "metadata": {}
  },
  {
   "cell_type": "code",
   "execution_count": 42,
   "metadata": {},
   "outputs": [
    {
     "output_type": "stream",
     "name": "stdout",
     "text": [
      "Plan Rome --> London : \n [('Rome', 3) -> ('Madrid', 5), ('Madrid', 8) -> ('London', 10)]\n"
     ]
    }
   ],
   "source": [
    "def find_shortest_itinerary(start_location, end_location):\n",
    "    find_path = None\n",
    "    start_time = 1\n",
    "    end_time = 1\n",
    "    while not find_path:\n",
    "        find_path = find_itinerary(start_location,start_time,end_location,end_time)\n",
    "        end_time = end_time + 1\n",
    "    return find_path\n",
    "print(\"Plan Rome --> London : \\n\",find_shortest_itinerary('Rome', 'London'))"
   ]
  }
 ]
}
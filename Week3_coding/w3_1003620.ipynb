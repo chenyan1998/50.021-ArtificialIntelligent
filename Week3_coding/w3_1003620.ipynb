{
 "metadata": {
  "language_info": {
   "codemirror_mode": {
    "name": "ipython",
    "version": 3
   },
   "file_extension": ".py",
   "mimetype": "text/x-python",
   "name": "python",
   "nbconvert_exporter": "python",
   "pygments_lexer": "ipython3",
   "version": "3.8.2"
  },
  "orig_nbformat": 2,
  "kernelspec": {
   "name": "python382jvsc74a57bd031f2aee4e71d21fbe5cf8b01ff0e069b9275f58929596ceb00d14d90e3e16cd6",
   "display_name": "Python 3.8.2 64-bit"
  },
  "metadata": {
   "interpreter": {
    "hash": "31f2aee4e71d21fbe5cf8b01ff0e069b9275f58929596ceb00d14d90e3e16cd6"
   }
  }
 },
 "nbformat": 4,
 "nbformat_minor": 2,
 "cells": [
  {
   "source": [
    "# Week3 Coding Assesment : Semi-Magic Square\n",
    "\n",
    "- Name       : Chen Yan \n",
    "- Student ID : 1003620 \n",
    "\n",
    "\n",
    "Tasks are as follows:\n",
    "\n",
    "1.  Implement a CSP that captures this problem.  Use the file semi-magic.py in  the  code  distribution.   It  also  imports  csp.py.   You  should  use  the variable names in the image above in your CSP formulation.\n",
    "\n",
    "2.  Experiment solving this problem with the various solution methods, rang-ing from pure backtracking and its various enhancements/heuristics suchas variable and value orderings, forward checking, etc.\n",
    "\n",
    "3.  Look  at  the  number  of  assignments  attempted  by  each  algorithm,  that should  give  you  some  idea  of  the  effectiveness  of  the  methods  on  thisproblem.   Elaborate  on  your  findings  from  these  results,  i.e.,  what  you understand.2"
   ],
   "cell_type": "markdown",
   "metadata": {}
  },
  {
   "cell_type": "code",
   "execution_count": 1,
   "metadata": {},
   "outputs": [],
   "source": [
    "#Import Library \n",
    "from csp import * \n",
    "from random import shuffle\n",
    "import random \n",
    "random.seed(123)\n",
    "import sys \n",
    "sys.path.insert(0, '/Users/chenyan/.local/lib/python3.8/site-packages')\n",
    "sys.path.insert(0, '/Users/chenyan/opt/anaconda3/lib/python3.8/site-packages')\n",
    "import numpy as np\n",
    "import pandas as pd"
   ]
  },
  {
   "cell_type": "code",
   "execution_count": null,
   "metadata": {},
   "outputs": [],
   "source": [
    "a= list(range(1,4))\n",
    "print(a)"
   ]
  },
  {
   "cell_type": "code",
   "execution_count": null,
   "metadata": {},
   "outputs": [],
   "source": []
  }
 ]
}